{
 "cells": [
  {
   "cell_type": "markdown",
   "metadata": {},
   "source": [
    "# Governor Effect on COVID-19 Progression"
   ]
  },
  {
   "cell_type": "markdown",
   "metadata": {},
   "source": [
    "## Final Project for Knowledge Discovery in Databases course"
   ]
  },
  {
   "cell_type": "code",
   "execution_count": 2,
   "metadata": {},
   "outputs": [],
   "source": [
    "# Import libraries\n",
    "import pandas as pd\n",
    "import numpy as np"
   ]
  },
  {
   "cell_type": "code",
   "execution_count": 131,
   "metadata": {},
   "outputs": [],
   "source": [
    "# Read in Data\n",
    "\n",
    "# Johns Hopkins Data: Daily Cases\n",
    "# https://github.com/CSSEGISandData/COVID-19\n",
    "US_07_24 = pd.read_csv(\"Johns_Hopkins_Data/Daily_Reports/07-24-2020_US.csv\")\n",
    "\n",
    "# Governors data\n",
    "govn = pd.read_csv(\"Other_Data/GOVERNORS.csv\")\n",
    "\n",
    "# US Census State Populations\n",
    "pop = pd.read_csv(\"Other_Data/CENSUS_State_Populations.csv\")\n",
    "pop = pop[[\"NAME\", \"POPESTIMATE2019\"]]\n",
    "\n",
    "# US Census State Area Measurements\n",
    "areas = pd.read_csv(\"Other_Data/CENSUS_StateAreaMeasurements.csv\")\n",
    "areas = areas[['State_and_Other_Areas', 'TotalArea_SqMi', 'LandArea_SqMi']]\n",
    "\n",
    "# Median Household Income per State\n",
    "hhi = pd.read_csv(\"Other_Data/HH_Income.csv\")\n",
    "\n",
    "# State GDP\n",
    "gdp = pd.read_csv(\"Other_Data/State_GDP.csv\")\n",
    "\n",
    "# Stay-At-Home Order Dates\n",
    "stay = pd.read_csv(\"Other_Data/State_Stay_At_Home_Dates.csv\")\n",
    "\n",
    "# Population Distribution by Age\n",
    "agedistrib = pd.read_csv(\"Other_Data/Population_Distribution_by_Age.csv\")"
   ]
  },
  {
   "cell_type": "code",
   "execution_count": 132,
   "metadata": {},
   "outputs": [],
   "source": [
    "# Merge data sets\n",
    "df01 = pd.merge(US_07_24, govn, how='inner', left_on = 'Province_State', right_on = 'State')\n",
    "df02 = pd.merge(df01, pop, how='inner', left_on='Province_State', right_on='NAME')\n",
    "df03 = pd.merge(df02, areas, how='inner', left_on='Province_State', right_on='State_and_Other_Areas')\n",
    "df04 = pd.merge(df03, hhi, how='inner', left_on='Province_State', right_on='Location')\n",
    "df05 = pd.merge(df04, gdp, how='inner', left_on='Province_State', right_on='State')\n",
    "df06 = pd.merge(df05, stay, how='inner', left_on='Province_State', right_on='State')\n",
    "df07 = pd.merge(df06, agedistrib, how='inner', left_on='Province_State', right_on='Location')\n",
    "\n",
    "df = df07"
   ]
  },
  {
   "cell_type": "code",
   "execution_count": 122,
   "metadata": {},
   "outputs": [],
   "source": [
    "# Calculate Deaths per Million\n",
    "df[\"DeathsPerMillion\"]=df.apply(lambda row: row[\"Deaths\"]/(row[\"POPESTIMATE2019\"]/1000000), axis=1)\n",
    "\n",
    "# Calculate Confirmed Cases per Million\n",
    "# NOTE: This is actually not needed because Incidence_Rate from the original data set is cases/100K people\n",
    "# df06[\"ConfirmedPerMillion\"]=df06.apply(lambda row: row[\"Confirmed\"]/(row[\"POPESTIMATE2019\"]/1000000), axis=1)\n",
    "\n",
    "# Calculate Population Density\n",
    "df[\"Population_Density\"]=df.apply(lambda row: row[\"POPESTIMATE2019\"]/row[\"LandArea_SqMi\"], axis=1)"
   ]
  },
  {
   "cell_type": "code",
   "execution_count": 123,
   "metadata": {},
   "outputs": [],
   "source": [
    "# Convert data columns to dates\n",
    "df[\"Last_Update_Converted\"]=pd.to_datetime(df[\"Last_Update\"])\n",
    "df[\"DOB_Converted\"]=pd.to_datetime(df[\"DOB\"])\n",
    "df[\"Inauguration_Date_Converted\"]=pd.to_datetime(df[\"Inauguration_Date\"])\n",
    "df[\"SAHO_Effective_Date_Converted\"]=pd.to_datetime(df[\"SAHO_Effective_Date\"])\n",
    "\n",
    "# Governor's Age (in YEARS) at time of first COVID-19 case in the U.S. (January 21, 2020)\n",
    "df[\"Gov_Age_at_Onset\"] = df.apply(lambda row: (pd.to_datetime(\"2020-01-21\") - row[\"DOB_Converted\"])/np.timedelta64(1,'Y'), axis=1)\n",
    "\n",
    "# How long had Governor been in office (in MONTHS) at time of first COVID-19 case in the U.S. (January 21, 2020)\n",
    "df[\"Gov_Tenure_at_Onset\"] = df.apply(lambda row: (pd.to_datetime(\"2020-01-21\") - row[\"Inauguration_Date_Converted\"])/np.timedelta64(1,'M'), axis=1)"
   ]
  },
  {
   "cell_type": "code",
   "execution_count": 124,
   "metadata": {},
   "outputs": [],
   "source": [
    "# IMPUTATION\n",
    "\n",
    "# If a Stay-At-Home Order was never issued for a state, impute with the date of the Johns Hopkins snapshot. \n",
    "# This will effectively communicate that no order was issued\n",
    "df[\"SAHO_Effective_Date_Converted\"].replace(np.NaN, pd.to_datetime(\"2020-07-24\"), inplace=True)"
   ]
  },
  {
   "cell_type": "code",
   "execution_count": 125,
   "metadata": {},
   "outputs": [],
   "source": [
    "# Column containing number of days between first U.S. case and Stay-At-Home Order\n",
    "df[\"SAHO_Response_Time\"] = df.apply(lambda row: (row[\"SAHO_Effective_Date_Converted\"] - pd.to_datetime(\"2020-01-21\"))/np.timedelta64(1,'D'), axis=1)\n"
   ]
  },
  {
   "cell_type": "code",
   "execution_count": 126,
   "metadata": {},
   "outputs": [
    {
     "name": "stdout",
     "output_type": "stream",
     "text": [
      "<class 'pandas.core.frame.DataFrame'>\n",
      "Int64Index: 50 entries, 0 to 49\n",
      "Data columns (total 61 columns):\n",
      " #   Column                         Non-Null Count  Dtype         \n",
      "---  ------                         --------------  -----         \n",
      " 0   Province_State                 50 non-null     object        \n",
      " 1   Country_Region                 50 non-null     object        \n",
      " 2   Last_Update                    50 non-null     object        \n",
      " 3   Lat                            50 non-null     float64       \n",
      " 4   Long_                          50 non-null     float64       \n",
      " 5   Confirmed                      50 non-null     int64         \n",
      " 6   Deaths                         50 non-null     int64         \n",
      " 7   Recovered                      44 non-null     float64       \n",
      " 8   Active                         50 non-null     float64       \n",
      " 9   FIPS                           50 non-null     int64         \n",
      " 10  Incident_Rate                  50 non-null     float64       \n",
      " 11  People_Tested                  50 non-null     float64       \n",
      " 12  People_Hospitalized            36 non-null     float64       \n",
      " 13  Mortality_Rate                 50 non-null     float64       \n",
      " 14  UID                            50 non-null     int64         \n",
      " 15  ISO3                           50 non-null     object        \n",
      " 16  Testing_Rate                   50 non-null     float64       \n",
      " 17  Hospitalization_Rate           36 non-null     float64       \n",
      " 18  State_x                        50 non-null     object        \n",
      " 19  Governor                       50 non-null     object        \n",
      " 20  Sex                            50 non-null     object        \n",
      " 21  DOB                            50 non-null     object        \n",
      " 22  Inauguration_Date              50 non-null     object        \n",
      " 23  Age_at_Inauguration            50 non-null     object        \n",
      " 24  Time_In_Office                 50 non-null     object        \n",
      " 25  Current_Age                    50 non-null     object        \n",
      " 26  Party                          50 non-null     object        \n",
      " 27  Current_Age_Whole_Yrs          50 non-null     int64         \n",
      " 28  Current_Age_Added_Days         50 non-null     int64         \n",
      " 29  Current_Age_Years              50 non-null     float64       \n",
      " 30  NAME                           50 non-null     object        \n",
      " 31  POPESTIMATE2019                50 non-null     int64         \n",
      " 32  State_and_Other_Areas          50 non-null     object        \n",
      " 33  TotalArea_SqMi                 50 non-null     int64         \n",
      " 34  LandArea_SqMi                  50 non-null     int64         \n",
      " 35  Location_x                     50 non-null     object        \n",
      " 36  2017_Median_HHI                50 non-null     object        \n",
      " 37  Med_HHI_thousands              50 non-null     float64       \n",
      " 38  State_y                        50 non-null     object        \n",
      " 39  GDP_Millions                   50 non-null     object        \n",
      " 40  Pct_of_US                      50 non-null     float64       \n",
      " 41  GDP_Billions                   50 non-null     float64       \n",
      " 42  State                          50 non-null     object        \n",
      " 43  SAHO_Date_Announced            41 non-null     object        \n",
      " 44  SAHO_Effective_Date            41 non-null     object        \n",
      " 45  Location_y                     50 non-null     object        \n",
      " 46  Pct_Children_0to18             50 non-null     int64         \n",
      " 47  Pct_Adults_19to25              50 non-null     int64         \n",
      " 48  Pct_Adults_26to34              50 non-null     int64         \n",
      " 49  Pct_Adults_35to54              50 non-null     int64         \n",
      " 50  Pct_Adults_55to64              50 non-null     int64         \n",
      " 51  Pct_65Plus                     50 non-null     int64         \n",
      " 52  DeathsPerMillion               50 non-null     float64       \n",
      " 53  Population_Density             50 non-null     float64       \n",
      " 54  Last_Update_Converted          50 non-null     datetime64[ns]\n",
      " 55  DOB_Converted                  50 non-null     datetime64[ns]\n",
      " 56  Inauguration_Date_Converted    50 non-null     datetime64[ns]\n",
      " 57  SAHO_Effective_Date_Converted  50 non-null     datetime64[ns]\n",
      " 58  Gov_Age_at_Onset               50 non-null     float64       \n",
      " 59  Gov_Tenure_at_Onset            50 non-null     float64       \n",
      " 60  SAHO_Response_Time             50 non-null     float64       \n",
      "dtypes: datetime64[ns](4), float64(19), int64(15), object(23)\n",
      "memory usage: 24.2+ KB\n"
     ]
    }
   ],
   "source": [
    "# Print information on dataframe\n",
    "df.info()"
   ]
  },
  {
   "cell_type": "code",
   "execution_count": 130,
   "metadata": {},
   "outputs": [],
   "source": [
    "# Export merged table to csv to investigate\n",
    "df.to_csv(\"Other_Data/FULL_TABLE.csv\")"
   ]
  },
  {
   "cell_type": "code",
   "execution_count": 127,
   "metadata": {},
   "outputs": [],
   "source": [
    "# Reduce width of dataframe by selecting desired columns\n",
    "columns = ['Province_State', 'Confirmed', 'Deaths', 'Incident_Rate', 'DeathsPerMillion', 'People_Tested', \n",
    "           'Testing_Rate', 'Sex', 'Party', 'POPESTIMATE2019', 'TotalArea_SqMi', 'Med_HHI_thousands', 'GDP_Billions',\n",
    "          'Pct_65Plus', 'Population_Density', 'Gov_Age_at_Onset', 'Gov_Tenure_at_Onset', 'SAHO_Response_Time']\n",
    "\n",
    "subset = df[columns]"
   ]
  },
  {
   "cell_type": "code",
   "execution_count": 128,
   "metadata": {},
   "outputs": [
    {
     "name": "stdout",
     "output_type": "stream",
     "text": [
      "<class 'pandas.core.frame.DataFrame'>\n",
      "Int64Index: 50 entries, 0 to 49\n",
      "Data columns (total 18 columns):\n",
      " #   Column               Non-Null Count  Dtype  \n",
      "---  ------               --------------  -----  \n",
      " 0   Province_State       50 non-null     object \n",
      " 1   Confirmed            50 non-null     int64  \n",
      " 2   Deaths               50 non-null     int64  \n",
      " 3   Incident_Rate        50 non-null     float64\n",
      " 4   DeathsPerMillion     50 non-null     float64\n",
      " 5   People_Tested        50 non-null     float64\n",
      " 6   Testing_Rate         50 non-null     float64\n",
      " 7   Sex                  50 non-null     object \n",
      " 8   Party                50 non-null     object \n",
      " 9   POPESTIMATE2019      50 non-null     int64  \n",
      " 10  TotalArea_SqMi       50 non-null     int64  \n",
      " 11  Med_HHI_thousands    50 non-null     float64\n",
      " 12  GDP_Billions         50 non-null     float64\n",
      " 13  Pct_65Plus           50 non-null     int64  \n",
      " 14  Population_Density   50 non-null     float64\n",
      " 15  Gov_Age_at_Onset     50 non-null     float64\n",
      " 16  Gov_Tenure_at_Onset  50 non-null     float64\n",
      " 17  SAHO_Response_Time   50 non-null     float64\n",
      "dtypes: float64(10), int64(5), object(3)\n",
      "memory usage: 7.4+ KB\n"
     ]
    }
   ],
   "source": [
    "subset.info()"
   ]
  },
  {
   "cell_type": "markdown",
   "metadata": {},
   "source": [
    "#### Modeling"
   ]
  },
  {
   "cell_type": "code",
   "execution_count": null,
   "metadata": {},
   "outputs": [],
   "source": [
    "# First Model Concept\n",
    "\n",
    "# Linear Regression \n",
    "# Dependent Variable:  Incident_Rate\n",
    "# Predictor Variables: Testing_Rate, Sex, Party, Population_Density, Med_HHI_thousands, GDP_Billions, Pct_65Plus,\n",
    "#                      Gov_Age_at_Onset, Gov_Tenure_at_Onset, SAHO_Response_Time\n",
    "\n",
    "\n",
    "\n",
    "# Second Model Concept \n",
    "\n",
    "# Same as first but with DeathsPerMillion as Dependent Variable"
   ]
  }
 ],
 "metadata": {
  "kernelspec": {
   "display_name": "Python 3",
   "language": "python",
   "name": "python3"
  },
  "language_info": {
   "codemirror_mode": {
    "name": "ipython",
    "version": 3
   },
   "file_extension": ".py",
   "mimetype": "text/x-python",
   "name": "python",
   "nbconvert_exporter": "python",
   "pygments_lexer": "ipython3",
   "version": "3.7.6"
  }
 },
 "nbformat": 4,
 "nbformat_minor": 4
}
